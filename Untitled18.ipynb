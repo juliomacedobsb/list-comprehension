{
  "nbformat": 4,
  "nbformat_minor": 0,
  "metadata": {
    "colab": {
      "name": "Untitled18.ipynb",
      "provenance": [],
      "authorship_tag": "ABX9TyORnNhyUZ/Z+rgmBFfWfiLf"
    },
    "kernelspec": {
      "name": "python3",
      "display_name": "Python 3"
    },
    "language_info": {
      "name": "python"
    }
  },
  "cells": [
    {
      "cell_type": "markdown",
      "source": [
        "list comprehension python\n",
        "\n",
        "\n",
        "criando uma nova lista dobrando o valor dos produtos"
      ],
      "metadata": {
        "id": "iwQDSLLeRBhS"
      }
    },
    {
      "cell_type": "code",
      "source": [
        "lista_de_produtos = [100, 1500, 6850, 5000, 210, 34]"
      ],
      "metadata": {
        "id": "AiDPNzl7Syfw"
      },
      "execution_count": 18,
      "outputs": []
    },
    {
      "cell_type": "code",
      "source": [
        "nova_lista = []\n",
        "for preco in lista_de_produtos:\n",
        "  nova_lista.append(preco * 2)\n",
        "print(nova_lista)"
      ],
      "metadata": {
        "colab": {
          "base_uri": "https://localhost:8080/"
        },
        "id": "SseNGKerQ8Kc",
        "outputId": "e07372af-22fd-4c4e-d708-775c7e4a9e6f"
      },
      "execution_count": 21,
      "outputs": [
        {
          "output_type": "stream",
          "name": "stdout",
          "text": [
            "[200, 3000, 13700, 10000, 420, 68]\n"
          ]
        }
      ]
    },
    {
      "cell_type": "markdown",
      "source": [
        "mesma situaçao com list comprehension"
      ],
      "metadata": {
        "id": "_tlcjgTzTK_O"
      }
    },
    {
      "cell_type": "code",
      "source": [
        "nova_lista_2 = [preco * 2 for preco in lista_de_produtos]"
      ],
      "metadata": {
        "id": "5pEMgmEZTTej"
      },
      "execution_count": 19,
      "outputs": []
    },
    {
      "cell_type": "code",
      "source": [
        "print(nova_lista_2)"
      ],
      "metadata": {
        "colab": {
          "base_uri": "https://localhost:8080/"
        },
        "id": "SmHtC_PFThdE",
        "outputId": "2bacc14f-0487-4dd4-ebe9-98be95d42ec6"
      },
      "execution_count": 20,
      "outputs": [
        {
          "output_type": "stream",
          "name": "stdout",
          "text": [
            "[200, 3000, 13700, 10000, 420, 68]\n"
          ]
        }
      ]
    },
    {
      "cell_type": "markdown",
      "source": [
        "todos os produtos acima de mil dolares, imposto de 50 % sobre o valor\n"
      ],
      "metadata": {
        "id": "NkKqj-vTU0N4"
      }
    },
    {
      "cell_type": "code",
      "source": [
        "imposto = []\n",
        "for preco in nova_lista:\n",
        "  if preco > 1000:\n",
        "    imposto.append(preco * 0.5)"
      ],
      "metadata": {
        "id": "KXUEP4LJVSCZ"
      },
      "execution_count": 22,
      "outputs": []
    },
    {
      "cell_type": "code",
      "source": [
        "print(imposto)"
      ],
      "metadata": {
        "colab": {
          "base_uri": "https://localhost:8080/"
        },
        "id": "F-w-0ENlV9L1",
        "outputId": "9b648511-bf22-469e-ebbe-3e99a817ce3b"
      },
      "execution_count": 23,
      "outputs": [
        {
          "output_type": "stream",
          "name": "stdout",
          "text": [
            "[1500.0, 6850.0, 5000.0]\n"
          ]
        }
      ]
    },
    {
      "cell_type": "markdown",
      "source": [
        "usando list comprehension: sempre o valor que vc quer adicionar a lista vem na frente "
      ],
      "metadata": {
        "id": "ER-T76anWLWd"
      }
    },
    {
      "cell_type": "code",
      "source": [
        "impost_2 = [preco * 0.5 for preco in nova_lista if preco > 1000]"
      ],
      "metadata": {
        "id": "4js8uJXIWKHh"
      },
      "execution_count": 26,
      "outputs": []
    },
    {
      "cell_type": "code",
      "source": [
        "print(impost_2)"
      ],
      "metadata": {
        "colab": {
          "base_uri": "https://localhost:8080/"
        },
        "id": "9PDf7uKvWk_J",
        "outputId": "7923911d-ce60-440d-ed8e-7db7a3d49784"
      },
      "execution_count": 27,
      "outputs": [
        {
          "output_type": "stream",
          "name": "stdout",
          "text": [
            "[1500.0, 6850.0, 5000.0]\n"
          ]
        }
      ]
    }
  ]
}